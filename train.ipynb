{
  "nbformat": 4,
  "nbformat_minor": 0,
  "metadata": {
    "colab": {
      "provenance": [],
      "authorship_tag": "ABX9TyPoCzvn8d6XXwYZ0bodXNXl",
      "include_colab_link": true
    },
    "kernelspec": {
      "name": "python3",
      "display_name": "Python 3"
    },
    "language_info": {
      "name": "python"
    }
  },
  "cells": [
    {
      "cell_type": "markdown",
      "metadata": {
        "id": "view-in-github",
        "colab_type": "text"
      },
      "source": [
        "<a href=\"https://colab.research.google.com/github/SivaGanesh-A/scratch/blob/master/train.ipynb\" target=\"_parent\"><img src=\"https://colab.research.google.com/assets/colab-badge.svg\" alt=\"Open In Colab\"/></a>"
      ]
    },
    {
      "cell_type": "code",
      "source": [
        "pip install pinecone-client scikit-learn numpy\n"
      ],
      "metadata": {
        "colab": {
          "base_uri": "https://localhost:8080/"
        },
        "id": "WtS7Aji1Ef6G",
        "outputId": "4737ae34-167d-418b-8e34-f274b54c9ee5"
      },
      "execution_count": 2,
      "outputs": [
        {
          "output_type": "stream",
          "name": "stdout",
          "text": [
            "Collecting pinecone-client\n",
            "  Downloading pinecone_client-5.0.1-py3-none-any.whl.metadata (19 kB)\n",
            "Requirement already satisfied: scikit-learn in /usr/local/lib/python3.10/dist-packages (1.5.2)\n",
            "Requirement already satisfied: numpy in /usr/local/lib/python3.10/dist-packages (1.26.4)\n",
            "Requirement already satisfied: certifi>=2019.11.17 in /usr/local/lib/python3.10/dist-packages (from pinecone-client) (2024.8.30)\n",
            "Collecting pinecone-plugin-inference<2.0.0,>=1.0.3 (from pinecone-client)\n",
            "  Downloading pinecone_plugin_inference-1.1.0-py3-none-any.whl.metadata (2.2 kB)\n",
            "Collecting pinecone-plugin-interface<0.0.8,>=0.0.7 (from pinecone-client)\n",
            "  Downloading pinecone_plugin_interface-0.0.7-py3-none-any.whl.metadata (1.2 kB)\n",
            "Requirement already satisfied: tqdm>=4.64.1 in /usr/local/lib/python3.10/dist-packages (from pinecone-client) (4.66.6)\n",
            "Requirement already satisfied: typing-extensions>=3.7.4 in /usr/local/lib/python3.10/dist-packages (from pinecone-client) (4.12.2)\n",
            "Requirement already satisfied: urllib3>=1.26.0 in /usr/local/lib/python3.10/dist-packages (from pinecone-client) (2.2.3)\n",
            "Requirement already satisfied: scipy>=1.6.0 in /usr/local/lib/python3.10/dist-packages (from scikit-learn) (1.13.1)\n",
            "Requirement already satisfied: joblib>=1.2.0 in /usr/local/lib/python3.10/dist-packages (from scikit-learn) (1.4.2)\n",
            "Requirement already satisfied: threadpoolctl>=3.1.0 in /usr/local/lib/python3.10/dist-packages (from scikit-learn) (3.5.0)\n",
            "Downloading pinecone_client-5.0.1-py3-none-any.whl (244 kB)\n",
            "\u001b[2K   \u001b[90m━━━━━━━━━━━━━━━━━━━━━━━━━━━━━━━━━━━━━━━━\u001b[0m \u001b[32m244.8/244.8 kB\u001b[0m \u001b[31m5.3 MB/s\u001b[0m eta \u001b[36m0:00:00\u001b[0m\n",
            "\u001b[?25hDownloading pinecone_plugin_inference-1.1.0-py3-none-any.whl (85 kB)\n",
            "\u001b[2K   \u001b[90m━━━━━━━━━━━━━━━━━━━━━━━━━━━━━━━━━━━━━━━━\u001b[0m \u001b[32m85.4/85.4 kB\u001b[0m \u001b[31m6.3 MB/s\u001b[0m eta \u001b[36m0:00:00\u001b[0m\n",
            "\u001b[?25hDownloading pinecone_plugin_interface-0.0.7-py3-none-any.whl (6.2 kB)\n",
            "Installing collected packages: pinecone-plugin-interface, pinecone-plugin-inference, pinecone-client\n",
            "Successfully installed pinecone-client-5.0.1 pinecone-plugin-inference-1.1.0 pinecone-plugin-interface-0.0.7\n"
          ]
        }
      ]
    },
    {
      "cell_type": "code",
      "execution_count": 3,
      "metadata": {
        "id": "BZw0963tC-9r"
      },
      "outputs": [],
      "source": [
        "import os\n",
        "import numpy as np\n",
        "from pinecone import Pinecone, ServerlessSpec\n",
        "from sklearn.neighbors import NearestNeighbors\n",
        "\n",
        "# Initialize Pinecone Client\n",
        "pc = Pinecone(api_key=\"pcsk_7CbPGf_MiYtwtTXpvdspQBLWJ2GdDrCkduD6mmt8jnF5nGTQU31HDSV4RAvEttsnCKg3a4\")\n",
        "\n",
        "# Connect to Index\n",
        "index_name = \"sampleindex\"\n",
        "index = pc.Index(index_name)\n"
      ]
    },
    {
      "cell_type": "code",
      "source": [
        "def query_pinecone(query_vector, top_k=3):\n",
        "    # Query Pinecone index to find nearest vectors\n",
        "    result = index.query(\n",
        "        vector=query_vector,  # The query vector\n",
        "        top_k=top_k,  # Number of nearest neighbors to return\n",
        "        include_values=True  # Include the actual vector data\n",
        "    )\n",
        "    return result\n"
      ],
      "metadata": {
        "id": "ZbjND3TwGw23"
      },
      "execution_count": 4,
      "outputs": []
    },
    {
      "cell_type": "code",
      "source": [
        "# Prepare data for training\n",
        "# You can use your vectors from the Pinecone index or other dataset\n",
        "vector_data_sets = [\n",
        "    [\n",
        "        [0.0, 51.77, 1.0],\n",
        "        [1.0, 53.74, 1.0],\n",
        "        [2.0, 50.1, 1.0],\n",
        "        [3.0, 47.82, 1.0],\n",
        "        [4.0, 54.23, 1.0],\n",
        "        [5.0, 22.65, 1.0],\n",
        "    ],\n",
        "    [\n",
        "        [0.0, 33.34, 1.0],\n",
        "        [1.0, 17.93, 1.0],\n",
        "        [2.0, 22.6, 1.0],\n",
        "        [3.0, 52.15, 1.0],\n",
        "        [4.0, 13.99, 1.0],\n",
        "        [5.0, 20.66, 1.0],\n",
        "    ],\n",
        "    [\n",
        "        [0.0, 17.46, 1.0],\n",
        "        [1.0, 52.29, 1.0],\n",
        "        [2.0, 35.02, 1.0],\n",
        "        [3.0, 57.25, 1.0],\n",
        "        [4.0, 23.88, 1.0],\n",
        "        [5.0, 37.59, 1.0],\n",
        "    ],\n",
        "    [\n",
        "        [0.0, 51.33, 1.0],\n",
        "        [1.0, 45.17, 1.0],\n",
        "    ],\n",
        "]\n",
        "\n",
        "# Flatten and label the data (for supervised learning)\n",
        "vectors = []\n",
        "labels = []\n",
        "for i, dataset in enumerate(vector_data_sets):\n",
        "    for j, vector in enumerate(dataset):\n",
        "        vectors.append(vector)\n",
        "        labels.append(i)  # Labeling vectors by their dataset index\n",
        "\n",
        "vectors = np.array(vectors)\n",
        "labels = np.array(labels)\n",
        "\n",
        "# Train a Nearest Neighbor Model\n",
        "model = NearestNeighbors(n_neighbors=3, metric='euclidean')\n",
        "model.fit(vectors)\n",
        "\n",
        "# Test the Model\n",
        "query_vector = np.array([1.0, 52.0, 1.0])  # Example query vector\n",
        "distances, indices = model.kneighbors([query_vector])\n",
        "\n",
        "print(f\"Nearest neighbors for the query vector {query_vector}:\")\n",
        "for dist, idx in zip(distances[0], indices[0]):\n",
        "    print(f\"Vector: {vectors[idx]} | Distance: {dist} | Label: {labels[idx]}\")\n"
      ],
      "metadata": {
        "colab": {
          "base_uri": "https://localhost:8080/"
        },
        "id": "hFvGOoZXG4TQ",
        "outputId": "1ad9ad9b-4f7e-4083-dc21-1528726ed94a"
      },
      "execution_count": 5,
      "outputs": [
        {
          "output_type": "stream",
          "name": "stdout",
          "text": [
            "Nearest neighbors for the query vector [ 1. 52.  1.]:\n",
            "Vector: [ 1.   52.29  1.  ] | Distance: 0.28999999999999915 | Label: 2\n",
            "Vector: [ 0.   51.77  1.  ] | Distance: 1.0261091559868272 | Label: 0\n",
            "Vector: [ 0.   51.33  1.  ] | Distance: 1.203702621082135 | Label: 3\n"
          ]
        }
      ]
    },
    {
      "cell_type": "code",
      "source": [
        "import numpy as np\n",
        "\n",
        "# Example of querying Pinecone and using the NN model\n",
        "query_vector = np.array([1.0, 52.0, 1.0])  # Example query vector\n",
        "\n",
        "# Convert the NumPy array to a list\n",
        "query_vector_list = query_vector.tolist()\n",
        "\n",
        "# Now call the query function with the list\n",
        "pinecone_results = query_pinecone(query_vector_list)\n",
        "\n",
        "print(\"Pinecone Query Results:\")\n",
        "print(pinecone_results)"
      ],
      "metadata": {
        "colab": {
          "base_uri": "https://localhost:8080/"
        },
        "id": "f6sF9g_PHtpX",
        "outputId": "dfff93f0-887a-467c-f276-7bfee9ecfbea"
      },
      "execution_count": 7,
      "outputs": [
        {
          "output_type": "stream",
          "name": "stdout",
          "text": [
            "Pinecone Query Results:\n",
            "{'matches': [{'id': 'vec_2_1',\n",
            "              'score': 1.38671875,\n",
            "              'values': [1.0, 52.29, 1.0]},\n",
            "             {'id': 'vec_0_0',\n",
            "              'score': 1.71777344,\n",
            "              'values': [0.0, 51.77, 1.0]},\n",
            "             {'id': 'vec_3_0',\n",
            "              'score': 2.12548828,\n",
            "              'values': [0.0, 51.33, 1.0]}],\n",
            " 'namespace': '',\n",
            " 'usage': {'read_units': 6}}\n"
          ]
        }
      ]
    },
    {
      "cell_type": "code",
      "source": [
        "import numpy as np\n",
        "\n",
        "# Function to test the trained nearest neighbor model\n",
        "def test_model(query_vector):\n",
        "    distances, indices = model.kneighbors([query_vector])\n",
        "    print(f\"Query Vector: {query_vector}\")\n",
        "    print(\"Nearest Neighbors:\")\n",
        "    for dist, idx in zip(distances[0], indices[0]):\n",
        "        print(f\"Vector: {vectors[idx]} | Distance: {dist} | Label: {labels[idx]}\")\n",
        "\n",
        "# Example query\n",
        "query_vector = np.array([1.0, 52.0, 1.0])\n",
        "test_model(query_vector)\n"
      ],
      "metadata": {
        "colab": {
          "base_uri": "https://localhost:8080/"
        },
        "id": "UpyFucH5H-Md",
        "outputId": "43cb3afa-d88e-4b35-f785-fb99bc646f68"
      },
      "execution_count": 8,
      "outputs": [
        {
          "output_type": "stream",
          "name": "stdout",
          "text": [
            "Query Vector: [ 1. 52.  1.]\n",
            "Nearest Neighbors:\n",
            "Vector: [ 1.   52.29  1.  ] | Distance: 0.28999999999999915 | Label: 2\n",
            "Vector: [ 0.   51.77  1.  ] | Distance: 1.0261091559868272 | Label: 0\n",
            "Vector: [ 0.   51.33  1.  ] | Distance: 1.203702621082135 | Label: 3\n"
          ]
        }
      ]
    }
  ]
}